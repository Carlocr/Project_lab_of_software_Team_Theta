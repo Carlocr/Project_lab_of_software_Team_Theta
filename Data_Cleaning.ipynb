{
 "metadata": {
  "language_info": {
   "codemirror_mode": {
    "name": "ipython",
    "version": 3
   },
   "file_extension": ".py",
   "mimetype": "text/x-python",
   "name": "python",
   "nbconvert_exporter": "python",
   "pygments_lexer": "ipython3",
   "version": 3
  },
  "orig_nbformat": 2
 },
 "nbformat": 4,
 "nbformat_minor": 2,
 "cells": [
  {
   "cell_type": "code",
   "execution_count": null,
   "metadata": {},
   "outputs": [],
   "source": [
    "# Import all the  libraries\n",
    "import numpy as np\n",
    "import pandas as pd\n",
    "from datetime import datetime as dt\n",
    "import itertools\n",
    "\n",
    "%matplotlib inline"
   ]
  },
  {
   "cell_type": "code",
   "execution_count": null,
   "metadata": {},
   "outputs": [],
   "source": [
    "# Read data from the CSV into a dataframe\n",
    "\n",
    "loc = 'C:/Users/Utente/Desktop/Project-lab-team-Theta-/Data/'\n",
    "\n",
    "raw_data_1 = pd.read_csv(loc + '2000-01.csv')\n",
    "raw_data_2 = pd.read_csv(loc + '2001-02.csv')\n",
    "raw_data_3 = pd.read_csv(loc + '2002-03.csv')\n",
    "raw_data_4 = pd.read_csv(loc + '2003-04.csv')\n",
    "raw_data_5 = pd.read_csv(loc + '2004-05.csv')\n",
    "raw_data_6 = pd.read_csv(loc + '2005-06.csv')\n",
    "raw_data_7 = pd.read_csv(loc + '2006-07.csv')\n",
    "raw_data_8 = pd.read_csv(loc + '2007-08.csv')\n",
    "raw_data_9 = pd.read_csv(loc + '2008-09.csv')\n",
    "raw_data_10 = pd.read_csv(loc + '2009-10.csv')\n",
    "raw_data_11 = pd.read_csv(loc + '2010-11.csv')\n",
    "raw_data_12 = pd.read_csv(loc + '2011-12.csv')\n",
    "raw_data_13 = pd.read_csv(loc + '2012-13.csv')\n",
    "raw_data_14 = pd.read_csv(loc + '2013-14.csv')\n",
    "raw_data_15 = pd.read_csv(loc + '2014-15.csv')\n",
    "raw_data_16 = pd.read_csv(loc + '2015-16.csv')\n"
   ]
  },
  {
   "source": [],
   "cell_type": "markdown",
   "metadata": {}
  }
 ]
}